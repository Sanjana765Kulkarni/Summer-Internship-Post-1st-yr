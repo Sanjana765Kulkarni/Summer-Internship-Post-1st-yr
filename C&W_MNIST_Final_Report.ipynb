{
  "cells": [
    {
      "cell_type": "markdown",
      "metadata": {
        "id": "IaZ8N9JE0vOA"
      },
      "source": [
        "Simulate the adversarial attacks on AI,\n"
      ]
    },
    {
      "cell_type": "markdown",
      "metadata": {
        "id": "NoOFMRpAbHY3"
      },
      "source": [
        "Team 1- CS Raksha and Sanjana Kulkarni,\n"
      ]
    },
    {
      "cell_type": "markdown",
      "metadata": {
        "id": "4_ekgWlUbHY4"
      },
      "source": [
        "Team Contribution :\n",
        "- A deep understanding of Advesarial attacks\n",
        "- Gaining knowledge on the different types of attacks and the different methodology of these attacks\n",
        "- Made a code that was an inspiration for the following\n",
        "- An organized documentation of what the following code is in a way that is easier to understand."
      ]
    },
    {
      "cell_type": "code",
      "execution_count": null,
      "metadata": {
        "id": "D1arUSkOy-kB"
      },
      "outputs": [],
      "source": [
        "import torch\n",
        "import torch.nn as nn\n",
        "import torch.optim as optim\n",
        "import torch.nn.functional as F\n",
        "import matplotlib.pyplot as plt\n",
        "import torchvision.datasets as datasets\n",
        "import torchvision.transforms as transforms"
      ]
    },
    {
      "cell_type": "code",
      "execution_count": null,
      "metadata": {
        "colab": {
          "base_uri": "https://localhost:8080/"
        },
        "id": "LyNFwm3VzI8K",
        "outputId": "31869e06-d017-4654-b0da-5e4c4792f1b3"
      },
      "outputs": [
        {
          "data": {
            "text/plain": [
              "SimpleCNN(\n",
              "  (conv1): Conv2d(1, 32, kernel_size=(3, 3), stride=(1, 1), padding=(1, 1))\n",
              "  (conv2): Conv2d(32, 64, kernel_size=(3, 3), stride=(1, 1), padding=(1, 1))\n",
              "  (fc1): Linear(in_features=3136, out_features=128, bias=True)\n",
              "  (fc2): Linear(in_features=128, out_features=10, bias=True)\n",
              ")"
            ]
          },
          "execution_count": 2,
          "metadata": {},
          "output_type": "execute_result"
        }
      ],
      "source": [
        "# Define a simple CNN model\n",
        "class SimpleCNN(nn.Module):\n",
        "    def __init__(self):\n",
        "        super(SimpleCNN, self).__init__()\n",
        "        # First convolutional layer: 1 input channel, 32 output channels, 3x3 kernel\n",
        "        self.conv1 = nn.Conv2d(1, 32, kernel_size=3, stride=1, padding=1)\n",
        "        # Second convolutional layer: 32 input channels, 64 output channels, 3x3 kernel\n",
        "        self.conv2 = nn.Conv2d(32, 64, kernel_size=3, stride=1, padding=1)\n",
        "        # Fully connected layer: input size is 64*7*7 (after two 2x2 max poolings), output size is 128\n",
        "        self.fc1 = nn.Linear(64*7*7, 128)\n",
        "        # Fully connected layer: input size is 128, output size is 10 (for 10 classes)\n",
        "        self.fc2 = nn.Linear(128, 10)\n",
        "\n",
        "    def forward(self, x):\n",
        "        # Apply first convolutional layer followed by ReLU activation\n",
        "        x = F.relu(self.conv1(x))\n",
        "        # Apply 2x2 max pooling\n",
        "        x = F.max_pool2d(x, 2)\n",
        "        # Apply second convolutional layer followed by ReLU activation\n",
        "        x = F.relu(self.conv2(x))\n",
        "        # Apply 2x2 max pooling\n",
        "        x = F.max_pool2d(x, 2)\n",
        "        # Flatten the tensor for the fully connected layer\n",
        "        x = x.view(-1, 64*7*7)\n",
        "        # Apply first fully connected layer followed by ReLU activation\n",
        "        x = F.relu(self.fc1(x))\n",
        "        # Apply second fully connected layer\n",
        "        x = self.fc2(x)\n",
        "        return x\n",
        "\n",
        "\n",
        "# Create an instance of the model\n",
        "model = SimpleCNN()\n",
        "# Load the pretrained model weights\n",
        "model.load_state_dict(torch.load('pretrained_mnist_cnn.pth'))\n",
        "# Set the model to evaluation mode\n",
        "model.eval()"
      ]
    },
    {
      "cell_type": "code",
      "execution_count": null,
      "metadata": {
        "id": "RqU5czTDzSfT"
      },
      "outputs": [],
      "source": [
        "# Load the MNIST dataset with transformation to tensor\n",
        "transform = transforms.Compose([transforms.ToTensor()])\n",
        "# Load test dataset\n",
        "test_dataset = datasets.MNIST(root='./data', train=False, transform=transform, download=True)\n",
        "# Create a data loader for the test dataset\n",
        "test_loader = torch.utils.data.DataLoader(dataset=test_dataset, batch_size=1, shuffle=True)"
      ]
    },
    {
      "cell_type": "code",
      "execution_count": null,
      "metadata": {
        "id": "_Tv3EdURzah2"
      },
      "outputs": [],
      "source": [
        "# Define the C&W adversarial attack function\n",
        "def cw_attack(model, images, labels, targeted=False, target_label=1, c=1e-3, lr=0.001, num_iterations=500):\n",
        "    # Clone and detach the input images, and set requires_grad to True\n",
        "    images = images.clone().detach().requires_grad_(True)\n",
        "    # If targeted attack, set all labels to the target label\n",
        "    if targeted:\n",
        "        target_labels = torch.full(labels.shape, target_label, dtype=torch.long)\n",
        "    else:\n",
        "        target_labels = labels\n",
        "\n",
        "    # Use Adam optimizer to adjust the images\n",
        "    optimizer = torch.optim.Adam([images], lr=lr)\n",
        "    # Save a copy of the original images\n",
        "    original_images = images.clone().detach()\n",
        "\n",
        "    for i in range(num_iterations):\n",
        "        # Zero the gradients of the optimizer\n",
        "        optimizer.zero_grad()\n",
        "        # Get the model's outputs for the perturbed images\n",
        "        outputs = model(images)\n",
        "        # Compute the loss: combination of MSE loss and negative Cross-Entropy loss\n",
        "        loss = c * F.mse_loss(images, original_images) - F.cross_entropy(outputs, target_labels)\n",
        "        # Backpropagate the loss\n",
        "        loss.backward()\n",
        "        # Update the images\n",
        "        optimizer.step()\n",
        "        # Clamp the image values to be between 0 and 1\n",
        "        images.data = torch.clamp(images.data, 0, 1)\n",
        "\n",
        "        # Print loss every 100 iterations\n",
        "        if i % 100 == 0:\n",
        "            print(f'Iteration {i}/{num_iterations}, Loss: {loss.item()}')\n",
        "\n",
        "    # Return the adversarial images\n",
        "    adversarial_images = images.detach()\n",
        "    return adversarial_images"
      ]
    },
    {
      "cell_type": "code",
      "execution_count": null,
      "metadata": {
        "id": "65iD1ULnzgWg"
      },
      "outputs": [],
      "source": [
        "def show_images_and_predictions(model, original, adversarial, perturbation):\n",
        "    fig, axs = plt.subplots(1, 3, figsize=(10, 5))\n",
        "\n",
        "    # Original image\n",
        "    axs[0].imshow(original.squeeze(), cmap='gray')\n",
        "    axs[0].set_title(f'Original\\nPrediction: {model(original).argmax(dim=1).item()}')\n",
        "\n",
        "    # Adversarial image\n",
        "    axs[1].imshow(adversarial.squeeze(), cmap='gray')\n",
        "    axs[1].set_title(f'Adversarial\\nPrediction: {model(adversarial).argmax(dim=1).item()}')\n",
        "\n",
        "    # Perturbation\n",
        "    axs[2].imshow(perturbation.squeeze(), cmap='gray')\n",
        "    axs[2].set_title('Perturbation')\n",
        "\n",
        "    # Remove axis ticks\n",
        "    for ax in axs:\n",
        "        ax.axis('off')\n",
        "    # Show the plot\n",
        "    plt.show()"
      ]
    },
    {
      "cell_type": "code",
      "execution_count": null,
      "metadata": {
        "colab": {
          "base_uri": "https://localhost:8080/"
        },
        "id": "CEISXzRSupJ0",
        "outputId": "f436eb7b-37e5-43cf-acb4-7b80d6095a24"
      },
      "outputs": [
        {
          "name": "stdout",
          "output_type": "stream",
          "text": [
            "Iteration 0/500, Loss: -3.576278118089249e-07\n",
            "Iteration 100/500, Loss: -0.15107965469360352\n",
            "Iteration 200/500, Loss: -13.507684707641602\n",
            "Iteration 300/500, Loss: -23.85543441772461\n",
            "Iteration 400/500, Loss: -31.64390754699707\n"
          ]
        }
      ],
      "source": [
        "# Get a batch of test images and labels\n",
        "images, labels = next(iter(test_loader))\n",
        "\n",
        "# Generate adversarial images using the C&W attack\n",
        "adversarial_images = cw_attack(model, images, labels, targeted=False)\n",
        "\n",
        "# Calculate the perturbation by subtracting the original images from the adversarial images\n",
        "perturbation = adversarial_images - images"
      ]
    },
    {
      "cell_type": "code",
      "execution_count": null,
      "metadata": {
        "colab": {
          "base_uri": "https://localhost:8080/",
          "height": 328
        },
        "id": "yYH9EGgFz08m",
        "outputId": "bf2353b2-c9e7-4053-b093-e04b633c1baf"
      },
      "outputs": [
        {
          "data": {
            "image/png": "[encoded data removed]",
            "text/plain": [
              "<Figure size 1000x500 with 3 Axes>"
            ]
          },
          "metadata": {},
          "output_type": "display_data"
        }
      ],
      "source": [
        "# Show images and predictions\n",
        "show_images_and_predictions(model, images, adversarial_images, perturbation)"
      ]
    },
    {
      "cell_type": "markdown",
      "metadata": {
        "id": "f3eGb6Wh0bRp"
      },
      "source": [
        "**Conclusion:**\n",
        "\n",
        "- The C&W attack successfully altered an image, changing its classification from '7' to '1'.\n",
        "- Perturbations introduced are minimal and not noticeable to the human eye.\n",
        "- These subtle changes exploit the AI model’s weaknesses.\n",
        "- The experiment highlights the need for better defenses against adversarial attacks."
      ]
    }
  ],
  "metadata": {
    "accelerator": "GPU",
    "colab": {
      "gpuType": "T4",
      "provenance": []
    },
    "kernelspec": {
      "display_name": "Python 3",
      "name": "python3"
    },
    "language_info": {
      "name": "python"
    }
  },
  "nbformat": 4,
  "nbformat_minor": 0
}